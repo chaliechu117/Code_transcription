{
 "cells": [
  {
   "cell_type": "markdown",
   "id": "ac3e4fa1",
   "metadata": {},
   "source": [
    "[필사 주소](https://www.kaggle.com/code/fahd09/yelp-dataset-surpriseme-recommendation-system/notebook  )"
   ]
  },
  {
   "cell_type": "markdown",
   "id": "18a0fc1c",
   "metadata": {},
   "source": [
    "## YELP 데이터셋 필사하기"
   ]
  },
  {
   "cell_type": "code",
   "execution_count": 1,
   "id": "38ade9bb",
   "metadata": {},
   "outputs": [],
   "source": [
    "import os\n",
    "import re\n",
    "import string\n",
    "\n",
    "import numpy as np # linear algebra\n",
    "import pandas as pd # data processing, CSV file I/O (e.g. pd.read_csv)\n",
    "\n",
    "from nltk.tokenize import WordPunctTokenizer\n",
    "from nltk.corpus import stopwords\n",
    "from nltk.stem import SnowballStemmer\n",
    "\n",
    "from sklearn.feature_extraction.text import CountVectorizer"
   ]
  },
  {
   "cell_type": "code",
   "execution_count": 2,
   "id": "92a42107",
   "metadata": {},
   "outputs": [
    {
     "name": "stdout",
     "output_type": "stream",
     "text": [
      "Final Shape:  (57173, 15)\n"
     ]
    }
   ],
   "source": [
    "df_yelp_business = pd.read_json('data/yelp_academic_dataset_business.json', lines=True)\n",
    "df_yelp_business.fillna('NA', inplace=True)\n",
    "# we want to make sure we only work with restaurants -- nothing else\n",
    "df_yelp_business = df_yelp_business[df_yelp_business['categories'].str.contains('Restaurants')]\n",
    "print('Final Shape: ',df_yelp_business.shape)"
   ]
  },
  {
   "cell_type": "code",
   "execution_count": 3,
   "id": "45c187ce",
   "metadata": {},
   "outputs": [],
   "source": [
    "df_yelp_review_iter = pd.read_json('data/yelp_academic_dataset_review.json', chunksize=100000, lines=True)"
   ]
  },
  {
   "cell_type": "markdown",
   "id": "769958da",
   "metadata": {},
   "source": [
    "review 에 있는 데이터의 크기가 너무 크기 때문에 chunk 로 불러와 데이터를 읽고 불필요한 비즈니스에 대한 정보를 사전에 필터링하여 삭제하는 과정을 거친다. 여기에서는 총 다섯개의 chunk로 묶을거고."
   ]
  },
  {
   "cell_type": "code",
   "execution_count": 4,
   "id": "ec2132f4",
   "metadata": {},
   "outputs": [
    {
     "name": "stdout",
     "output_type": "stream",
     "text": [
      "1\n",
      "2\n",
      "3\n",
      "4\n"
     ]
    }
   ],
   "source": [
    "df_yelp_review = pd.DataFrame()\n",
    "i=0\n",
    "for df in df_yelp_review_iter:\n",
    "    df = df[df['business_id'].isin(df_yelp_business['business_id'])]\n",
    "    df_yelp_review = pd.concat([df_yelp_review, df])\n",
    "    i=i+1\n",
    "    print(i)\n",
    "    if i==4: break"
   ]
  },
  {
   "cell_type": "markdown",
   "id": "11a04225",
   "metadata": {},
   "source": [
    "또한 리뷰 리스트에 있는 비즈니스를 제외하고 나머지를 전부 삭제하는 과정을 거친다."
   ]
  },
  {
   "cell_type": "code",
   "execution_count": 5,
   "id": "1a902238",
   "metadata": {},
   "outputs": [],
   "source": [
    "df_yelp_business = df_yelp_business[df_yelp_business['business_id'].isin(df_yelp_review['business_id'])]"
   ]
  },
  {
   "cell_type": "code",
   "execution_count": 6,
   "id": "b98e189e",
   "metadata": {},
   "outputs": [
    {
     "data": {
      "text/html": [
       "<div>\n",
       "<style scoped>\n",
       "    .dataframe tbody tr th:only-of-type {\n",
       "        vertical-align: middle;\n",
       "    }\n",
       "\n",
       "    .dataframe tbody tr th {\n",
       "        vertical-align: top;\n",
       "    }\n",
       "\n",
       "    .dataframe thead th {\n",
       "        text-align: right;\n",
       "    }\n",
       "</style>\n",
       "<table border=\"1\" class=\"dataframe\">\n",
       "  <thead>\n",
       "    <tr style=\"text-align: right;\">\n",
       "      <th></th>\n",
       "      <th>business_id</th>\n",
       "      <th>name</th>\n",
       "      <th>neighborhood</th>\n",
       "      <th>address</th>\n",
       "      <th>city</th>\n",
       "      <th>state</th>\n",
       "      <th>postal_code</th>\n",
       "      <th>latitude</th>\n",
       "      <th>longitude</th>\n",
       "      <th>stars</th>\n",
       "      <th>review_count</th>\n",
       "      <th>is_open</th>\n",
       "      <th>attributes</th>\n",
       "      <th>categories</th>\n",
       "      <th>hours</th>\n",
       "    </tr>\n",
       "  </thead>\n",
       "  <tbody>\n",
       "    <tr>\n",
       "      <th>0</th>\n",
       "      <td>Apn5Q_b6Nz61Tq4XzPdf9A</td>\n",
       "      <td>Minhas Micro Brewery</td>\n",
       "      <td></td>\n",
       "      <td>1314 44 Avenue NE</td>\n",
       "      <td>Calgary</td>\n",
       "      <td>AB</td>\n",
       "      <td>T2E 6L6</td>\n",
       "      <td>51.091813</td>\n",
       "      <td>-114.031675</td>\n",
       "      <td>4.0</td>\n",
       "      <td>24</td>\n",
       "      <td>1</td>\n",
       "      <td>{'BikeParking': 'False', 'BusinessAcceptsCredi...</td>\n",
       "      <td>Tours, Breweries, Pizza, Restaurants, Food, Ho...</td>\n",
       "      <td>{'Monday': '8:30-17:0', 'Tuesday': '11:0-21:0'...</td>\n",
       "    </tr>\n",
       "    <tr>\n",
       "      <th>1</th>\n",
       "      <td>AjEbIBw6ZFfln7ePHha9PA</td>\n",
       "      <td>CK'S BBQ &amp; Catering</td>\n",
       "      <td></td>\n",
       "      <td></td>\n",
       "      <td>Henderson</td>\n",
       "      <td>NV</td>\n",
       "      <td>89002</td>\n",
       "      <td>35.960734</td>\n",
       "      <td>-114.939821</td>\n",
       "      <td>4.5</td>\n",
       "      <td>3</td>\n",
       "      <td>0</td>\n",
       "      <td>{'Alcohol': 'none', 'BikeParking': 'False', 'B...</td>\n",
       "      <td>Chicken Wings, Burgers, Caterers, Street Vendo...</td>\n",
       "      <td>{'Friday': '17:0-23:0', 'Saturday': '17:0-23:0...</td>\n",
       "    </tr>\n",
       "    <tr>\n",
       "      <th>2</th>\n",
       "      <td>O8S5hYJ1SMc8fA4QBtVujA</td>\n",
       "      <td>La Bastringue</td>\n",
       "      <td>Rosemont-La Petite-Patrie</td>\n",
       "      <td>1335 rue Beaubien E</td>\n",
       "      <td>Montréal</td>\n",
       "      <td>QC</td>\n",
       "      <td>H2G 1K7</td>\n",
       "      <td>45.540503</td>\n",
       "      <td>-73.5993</td>\n",
       "      <td>4.0</td>\n",
       "      <td>5</td>\n",
       "      <td>0</td>\n",
       "      <td>{'Alcohol': 'beer_and_wine', 'Ambience': '{'ro...</td>\n",
       "      <td>Breakfast &amp; Brunch, Restaurants, French, Sandw...</td>\n",
       "      <td>{'Monday': '10:0-22:0', 'Tuesday': '10:0-22:0'...</td>\n",
       "    </tr>\n",
       "    <tr>\n",
       "      <th>8</th>\n",
       "      <td>8-NRKkPY1UiFXW20WXKiXg</td>\n",
       "      <td>Filiberto's Mexican Food</td>\n",
       "      <td></td>\n",
       "      <td>1440 N. Dysart Ave</td>\n",
       "      <td>Avondale</td>\n",
       "      <td>AZ</td>\n",
       "      <td>85323</td>\n",
       "      <td>33.448106</td>\n",
       "      <td>-112.341302</td>\n",
       "      <td>2.5</td>\n",
       "      <td>40</td>\n",
       "      <td>1</td>\n",
       "      <td>{'Alcohol': 'none', 'Ambience': '{'romantic': ...</td>\n",
       "      <td>Mexican, Restaurants</td>\n",
       "      <td>{'Monday': '0:0-0:0', 'Tuesday': '0:0-0:0', 'W...</td>\n",
       "    </tr>\n",
       "    <tr>\n",
       "      <th>10</th>\n",
       "      <td>KapTdGyGs7RK0c68Z6hhhg</td>\n",
       "      <td>Sushi 8</td>\n",
       "      <td>Unionville</td>\n",
       "      <td>4568 Highway 7 E</td>\n",
       "      <td>Markham</td>\n",
       "      <td>ON</td>\n",
       "      <td>L3R 1M5</td>\n",
       "      <td>43.862484</td>\n",
       "      <td>-79.30696</td>\n",
       "      <td>1.5</td>\n",
       "      <td>12</td>\n",
       "      <td>0</td>\n",
       "      <td>{'GoodForKids': 'True', 'NoiseLevel': 'loud', ...</td>\n",
       "      <td>Restaurants, Japanese</td>\n",
       "      <td>{'Monday': '11:30-23:0', 'Tuesday': '11:30-23:...</td>\n",
       "    </tr>\n",
       "    <tr>\n",
       "      <th>...</th>\n",
       "      <td>...</td>\n",
       "      <td>...</td>\n",
       "      <td>...</td>\n",
       "      <td>...</td>\n",
       "      <td>...</td>\n",
       "      <td>...</td>\n",
       "      <td>...</td>\n",
       "      <td>...</td>\n",
       "      <td>...</td>\n",
       "      <td>...</td>\n",
       "      <td>...</td>\n",
       "      <td>...</td>\n",
       "      <td>...</td>\n",
       "      <td>...</td>\n",
       "      <td>...</td>\n",
       "    </tr>\n",
       "    <tr>\n",
       "      <th>188560</th>\n",
       "      <td>1UmZSifNBsygSWzbfKiAew</td>\n",
       "      <td>Spaghetti &amp; Company</td>\n",
       "      <td></td>\n",
       "      <td>5585 Simmons St</td>\n",
       "      <td>North Las Vegas</td>\n",
       "      <td>NV</td>\n",
       "      <td>89031</td>\n",
       "      <td>36.261224</td>\n",
       "      <td>-115.180262</td>\n",
       "      <td>3.5</td>\n",
       "      <td>20</td>\n",
       "      <td>0</td>\n",
       "      <td>{'Alcohol': 'beer_and_wine', 'Ambience': '{'ro...</td>\n",
       "      <td>Restaurants, Italian</td>\n",
       "      <td>{'Monday': '15:0-21:0', 'Tuesday': '15:0-21:0'...</td>\n",
       "    </tr>\n",
       "    <tr>\n",
       "      <th>188567</th>\n",
       "      <td>0zGeYN8ReYwVj27U7EHOJA</td>\n",
       "      <td>American Cafe</td>\n",
       "      <td>The Strip</td>\n",
       "      <td>3049 Las Vegas Blvd S</td>\n",
       "      <td>Las Vegas</td>\n",
       "      <td>NV</td>\n",
       "      <td>89109</td>\n",
       "      <td>36.131516</td>\n",
       "      <td>-115.164565</td>\n",
       "      <td>2.5</td>\n",
       "      <td>7</td>\n",
       "      <td>1</td>\n",
       "      <td>{'Ambience': '{'romantic': False, 'intimate': ...</td>\n",
       "      <td>Delis, Restaurants, American (Traditional)</td>\n",
       "      <td>NA</td>\n",
       "    </tr>\n",
       "    <tr>\n",
       "      <th>188571</th>\n",
       "      <td>G8mz50lT484Ak6qP2N-whQ</td>\n",
       "      <td>Mary Brown's Famous Chicken &amp; Tater</td>\n",
       "      <td></td>\n",
       "      <td>3199 Dufferin St</td>\n",
       "      <td>North York</td>\n",
       "      <td>ON</td>\n",
       "      <td>M6A 2T2</td>\n",
       "      <td>43.718455</td>\n",
       "      <td>-79.455328</td>\n",
       "      <td>3.0</td>\n",
       "      <td>20</td>\n",
       "      <td>1</td>\n",
       "      <td>{'Alcohol': 'none', 'Ambience': '{'romantic': ...</td>\n",
       "      <td>Chicken Wings, Fast Food, Restaurants</td>\n",
       "      <td>{'Monday': '11:0-21:0', 'Tuesday': '11:0-21:0'...</td>\n",
       "    </tr>\n",
       "    <tr>\n",
       "      <th>188577</th>\n",
       "      <td>kbaXNZLUyVuWbeQxH-NNKw</td>\n",
       "      <td>Bell's BBQ</td>\n",
       "      <td>Anthem</td>\n",
       "      <td>10895 S Eastern Ave, Ste 130</td>\n",
       "      <td>Henderson</td>\n",
       "      <td>NV</td>\n",
       "      <td>89052</td>\n",
       "      <td>35.993777</td>\n",
       "      <td>-115.101582</td>\n",
       "      <td>4.0</td>\n",
       "      <td>447</td>\n",
       "      <td>1</td>\n",
       "      <td>{'Alcohol': 'beer_and_wine', 'Ambience': '{'ro...</td>\n",
       "      <td>American (Traditional), American (New), Restau...</td>\n",
       "      <td>{'Monday': '11:0-21:0', 'Tuesday': '11:0-21:0'...</td>\n",
       "    </tr>\n",
       "    <tr>\n",
       "      <th>188586</th>\n",
       "      <td>OAmRh1fSiTgtR1e0D4JsVQ</td>\n",
       "      <td>Authentic Taste Of Indian Cuisine</td>\n",
       "      <td></td>\n",
       "      <td></td>\n",
       "      <td>Toronto</td>\n",
       "      <td>ON</td>\n",
       "      <td>M5V</td>\n",
       "      <td>43.628947</td>\n",
       "      <td>-79.39442</td>\n",
       "      <td>3.0</td>\n",
       "      <td>3</td>\n",
       "      <td>0</td>\n",
       "      <td>{'Caters': 'True'}</td>\n",
       "      <td>Restaurants, Indian, Caterers, Event Planning ...</td>\n",
       "      <td>NA</td>\n",
       "    </tr>\n",
       "  </tbody>\n",
       "</table>\n",
       "<p>38726 rows × 15 columns</p>\n",
       "</div>"
      ],
      "text/plain": [
       "                   business_id                                 name  \\\n",
       "0       Apn5Q_b6Nz61Tq4XzPdf9A                 Minhas Micro Brewery   \n",
       "1       AjEbIBw6ZFfln7ePHha9PA                  CK'S BBQ & Catering   \n",
       "2       O8S5hYJ1SMc8fA4QBtVujA                        La Bastringue   \n",
       "8       8-NRKkPY1UiFXW20WXKiXg             Filiberto's Mexican Food   \n",
       "10      KapTdGyGs7RK0c68Z6hhhg                              Sushi 8   \n",
       "...                        ...                                  ...   \n",
       "188560  1UmZSifNBsygSWzbfKiAew                  Spaghetti & Company   \n",
       "188567  0zGeYN8ReYwVj27U7EHOJA                        American Cafe   \n",
       "188571  G8mz50lT484Ak6qP2N-whQ  Mary Brown's Famous Chicken & Tater   \n",
       "188577  kbaXNZLUyVuWbeQxH-NNKw                           Bell's BBQ   \n",
       "188586  OAmRh1fSiTgtR1e0D4JsVQ    Authentic Taste Of Indian Cuisine   \n",
       "\n",
       "                     neighborhood                       address  \\\n",
       "0                                             1314 44 Avenue NE   \n",
       "1                                                                 \n",
       "2       Rosemont-La Petite-Patrie           1335 rue Beaubien E   \n",
       "8                                            1440 N. Dysart Ave   \n",
       "10                     Unionville              4568 Highway 7 E   \n",
       "...                           ...                           ...   \n",
       "188560                                          5585 Simmons St   \n",
       "188567                  The Strip         3049 Las Vegas Blvd S   \n",
       "188571                                         3199 Dufferin St   \n",
       "188577                     Anthem  10895 S Eastern Ave, Ste 130   \n",
       "188586                                                            \n",
       "\n",
       "                   city state postal_code   latitude   longitude  stars  \\\n",
       "0               Calgary    AB     T2E 6L6  51.091813 -114.031675    4.0   \n",
       "1             Henderson    NV       89002  35.960734 -114.939821    4.5   \n",
       "2              Montréal    QC     H2G 1K7  45.540503    -73.5993    4.0   \n",
       "8              Avondale    AZ       85323  33.448106 -112.341302    2.5   \n",
       "10              Markham    ON     L3R 1M5  43.862484   -79.30696    1.5   \n",
       "...                 ...   ...         ...        ...         ...    ...   \n",
       "188560  North Las Vegas    NV       89031  36.261224 -115.180262    3.5   \n",
       "188567        Las Vegas    NV       89109  36.131516 -115.164565    2.5   \n",
       "188571       North York    ON     M6A 2T2  43.718455  -79.455328    3.0   \n",
       "188577        Henderson    NV       89052  35.993777 -115.101582    4.0   \n",
       "188586          Toronto    ON         M5V  43.628947   -79.39442    3.0   \n",
       "\n",
       "        review_count  is_open  \\\n",
       "0                 24        1   \n",
       "1                  3        0   \n",
       "2                  5        0   \n",
       "8                 40        1   \n",
       "10                12        0   \n",
       "...              ...      ...   \n",
       "188560            20        0   \n",
       "188567             7        1   \n",
       "188571            20        1   \n",
       "188577           447        1   \n",
       "188586             3        0   \n",
       "\n",
       "                                               attributes  \\\n",
       "0       {'BikeParking': 'False', 'BusinessAcceptsCredi...   \n",
       "1       {'Alcohol': 'none', 'BikeParking': 'False', 'B...   \n",
       "2       {'Alcohol': 'beer_and_wine', 'Ambience': '{'ro...   \n",
       "8       {'Alcohol': 'none', 'Ambience': '{'romantic': ...   \n",
       "10      {'GoodForKids': 'True', 'NoiseLevel': 'loud', ...   \n",
       "...                                                   ...   \n",
       "188560  {'Alcohol': 'beer_and_wine', 'Ambience': '{'ro...   \n",
       "188567  {'Ambience': '{'romantic': False, 'intimate': ...   \n",
       "188571  {'Alcohol': 'none', 'Ambience': '{'romantic': ...   \n",
       "188577  {'Alcohol': 'beer_and_wine', 'Ambience': '{'ro...   \n",
       "188586                                 {'Caters': 'True'}   \n",
       "\n",
       "                                               categories  \\\n",
       "0       Tours, Breweries, Pizza, Restaurants, Food, Ho...   \n",
       "1       Chicken Wings, Burgers, Caterers, Street Vendo...   \n",
       "2       Breakfast & Brunch, Restaurants, French, Sandw...   \n",
       "8                                    Mexican, Restaurants   \n",
       "10                                  Restaurants, Japanese   \n",
       "...                                                   ...   \n",
       "188560                               Restaurants, Italian   \n",
       "188567         Delis, Restaurants, American (Traditional)   \n",
       "188571              Chicken Wings, Fast Food, Restaurants   \n",
       "188577  American (Traditional), American (New), Restau...   \n",
       "188586  Restaurants, Indian, Caterers, Event Planning ...   \n",
       "\n",
       "                                                    hours  \n",
       "0       {'Monday': '8:30-17:0', 'Tuesday': '11:0-21:0'...  \n",
       "1       {'Friday': '17:0-23:0', 'Saturday': '17:0-23:0...  \n",
       "2       {'Monday': '10:0-22:0', 'Tuesday': '10:0-22:0'...  \n",
       "8       {'Monday': '0:0-0:0', 'Tuesday': '0:0-0:0', 'W...  \n",
       "10      {'Monday': '11:30-23:0', 'Tuesday': '11:30-23:...  \n",
       "...                                                   ...  \n",
       "188560  {'Monday': '15:0-21:0', 'Tuesday': '15:0-21:0'...  \n",
       "188567                                                 NA  \n",
       "188571  {'Monday': '11:0-21:0', 'Tuesday': '11:0-21:0'...  \n",
       "188577  {'Monday': '11:0-21:0', 'Tuesday': '11:0-21:0'...  \n",
       "188586                                                 NA  \n",
       "\n",
       "[38726 rows x 15 columns]"
      ]
     },
     "execution_count": 6,
     "metadata": {},
     "output_type": "execute_result"
    }
   ],
   "source": [
    "df_yelp_business "
   ]
  },
  {
   "cell_type": "code",
   "execution_count": 7,
   "id": "2277cb8a",
   "metadata": {
    "scrolled": false
   },
   "outputs": [
    {
     "name": "stdout",
     "output_type": "stream",
     "text": [
      "Final businesses shape:  (38726, 15)\n",
      "Final review shape:  (235669, 9)\n"
     ]
    }
   ],
   "source": [
    "print('Final businesses shape: ', df_yelp_business.shape)\n",
    "print('Final review shape: ', df_yelp_review.shape)"
   ]
  },
  {
   "cell_type": "markdown",
   "id": "3994014c",
   "metadata": {},
   "source": [
    "더 효율적으로 데이터를 이용하기 위해 [사이트링크](https://github.com/msahamed/yelp_comments_classification_nlp/blob/master/word_embeddings.ipynb) 에서 다음의 텍스트 가공 함수를 가져와 이용한다."
   ]
  },
  {
   "cell_type": "code",
   "execution_count": 8,
   "id": "71c21628",
   "metadata": {},
   "outputs": [],
   "source": [
    "def clean_text(text):\n",
    "    ## Remove puncuation\n",
    "    text = text.translate(string.punctuation)\n",
    "    \n",
    "    ## Convert words to lower case and split them\n",
    "    text = text.lower().split()\n",
    "    \n",
    "    ## Remove stop words\n",
    "    stops = set(stopwords.words(\"english\"))\n",
    "    text = [w for w in text if not w in stops and len(w) >= 3]\n",
    "    \n",
    "    text = \" \".join(text)\n",
    "    \n",
    "    # Clean the text\n",
    "    text = re.sub(r\"[^A-Za-z0-9^,!.\\/'+-=]\", \" \", text)\n",
    "    text = re.sub(r\"what's\", \"what is \", text)\n",
    "    text = re.sub(r\"\\'s\", \" \", text)\n",
    "    text = re.sub(r\"\\'ve\", \" have \", text)\n",
    "    text = re.sub(r\"n't\", \" not \", text)\n",
    "    text = re.sub(r\"i'm\", \"i am \", text)\n",
    "    text = re.sub(r\"\\'re\", \" are \", text)\n",
    "    text = re.sub(r\"\\'d\", \" would \", text)\n",
    "    text = re.sub(r\"\\'ll\", \" will \", text)\n",
    "    text = re.sub(r\",\", \" \", text)\n",
    "    text = re.sub(r\"\\.\", \" \", text)\n",
    "    text = re.sub(r\"!\", \" ! \", text)\n",
    "    text = re.sub(r\"\\/\", \" \", text)\n",
    "    text = re.sub(r\"\\^\", \" ^ \", text)\n",
    "    text = re.sub(r\"\\+\", \" + \", text)\n",
    "    text = re.sub(r\"\\-\", \" - \", text)\n",
    "    text = re.sub(r\"\\=\", \" = \", text)\n",
    "    text = re.sub(r\"'\", \" \", text)\n",
    "    text = re.sub(r\"(\\d+)(k)\", r\"\\g<1>000\", text)\n",
    "    text = re.sub(r\":\", \" : \", text)\n",
    "    text = re.sub(r\" e g \", \" eg \", text)\n",
    "    text = re.sub(r\" b g \", \" bg \", text)\n",
    "    text = re.sub(r\" u s \", \" american \", text)\n",
    "    text = re.sub(r\"\\0s\", \"0\", text)\n",
    "    text = re.sub(r\" 9 11 \", \"911\", text)\n",
    "    text = re.sub(r\"e - mail\", \"email\", text)\n",
    "    text = re.sub(r\"j k\", \"jk\", text)\n",
    "    text = re.sub(r\"\\s{2,}\", \" \", text)    \n",
    "    return text"
   ]
  },
  {
   "cell_type": "markdown",
   "id": "68c2b812",
   "metadata": {},
   "source": [
    "함수를 불러왔으므로 다음과 과정을 apply를 이용하여 데이터에 적용을 해준다."
   ]
  },
  {
   "cell_type": "code",
   "execution_count": 9,
   "id": "7514fe12",
   "metadata": {},
   "outputs": [
    {
     "name": "stderr",
     "output_type": "stream",
     "text": [
      "[nltk_data] Downloading package stopwords to /home/work/nltk_data...\n",
      "[nltk_data]   Unzipping corpora/stopwords.zip.\n"
     ]
    },
    {
     "data": {
      "text/plain": [
       "True"
      ]
     },
     "execution_count": 9,
     "metadata": {},
     "output_type": "execute_result"
    }
   ],
   "source": [
    "import nltk\n",
    "nltk.download('stopwords')"
   ]
  },
  {
   "cell_type": "code",
   "execution_count": 10,
   "id": "b57423bc",
   "metadata": {},
   "outputs": [
    {
     "name": "stdout",
     "output_type": "stream",
     "text": [
      "CPU times: user 52 s, sys: 2.19 s, total: 54.2 s\n",
      "Wall time: 54.3 s\n"
     ]
    }
   ],
   "source": [
    "%%time\n",
    "df_yelp_review['text'] = df_yelp_review['text'].apply(clean_text)"
   ]
  },
  {
   "cell_type": "markdown",
   "id": "695619f4",
   "metadata": {},
   "source": [
    "우리는 리뷰와 카테고리를 벡터화하도록 하겠다."
   ]
  },
  {
   "cell_type": "code",
   "execution_count": 11,
   "id": "d55de55f",
   "metadata": {},
   "outputs": [],
   "source": [
    "vectorizer_reviews = CountVectorizer(min_df = .01,max_df = .99, tokenizer = WordPunctTokenizer().tokenize)\n",
    "vectorized_reviews = vectorizer_reviews.fit_transform(df_yelp_review['text'])"
   ]
  },
  {
   "cell_type": "code",
   "execution_count": 12,
   "id": "53f66410",
   "metadata": {},
   "outputs": [
    {
     "name": "stdout",
     "output_type": "stream",
     "text": [
      "(235669, 858)\n"
     ]
    }
   ],
   "source": [
    "print(vectorized_reviews.shape)"
   ]
  },
  {
   "cell_type": "markdown",
   "id": "b94d2024",
   "metadata": {},
   "source": [
    "상위 100개의 단어를 살펴보자!"
   ]
  },
  {
   "cell_type": "code",
   "execution_count": 13,
   "id": "408b98c0",
   "metadata": {},
   "outputs": [
    {
     "name": "stderr",
     "output_type": "stream",
     "text": [
      "/usr/local/lib/python3.8/dist-packages/sklearn/utils/deprecation.py:87: FutureWarning: Function get_feature_names is deprecated; get_feature_names is deprecated in 1.0 and will be removed in 1.2. Please use get_feature_names_out instead.\n",
      "  warnings.warn(msg, category=FutureWarning)\n"
     ]
    },
    {
     "data": {
      "text/plain": [
       "'! | + | - | 00 | 1 | 10 | 12 | 15 | 2 | 20 | 3 | 30 | 4 | 5 | 50 | 6 | 7 | 8 | : | ; | a | able | about | absolutely | across | actually | add | added | again | ago | all | almost | along | already | also | although | always | am | amazing | ambiance | amount | and | another | anyone | anything | anyway | anywhere | appetizer | appetizers | are | area | around | arrived | as | asian | ask | asked | asking | ate | atmosphere | attention | attentive | attitude | authentic | available | average | away | awesome | awful | back | bacon | bad | baked | bar | barely | bartender | based | basically | bbq | be | beans | beautiful | beef | beer | beers | before | behind | believe | best | better | big | bill | birthday | bit | bite | black | bland | bowl | boyfriend | bread'"
      ]
     },
     "execution_count": 13,
     "metadata": {},
     "output_type": "execute_result"
    }
   ],
   "source": [
    "' | '.join(vectorizer_reviews.get_feature_names()[:100]) # only the first 100"
   ]
  },
  {
   "cell_type": "code",
   "execution_count": 14,
   "id": "75386e91",
   "metadata": {},
   "outputs": [],
   "source": [
    "vectorizer_categories = CountVectorizer(min_df = 1, max_df = 1., tokenizer = lambda x: x.split(', '))\n",
    "vectorized_categories = vectorizer_categories.fit_transform(df_yelp_business['categories'])"
   ]
  },
  {
   "cell_type": "code",
   "execution_count": 15,
   "id": "f9f368dc",
   "metadata": {},
   "outputs": [
    {
     "name": "stdout",
     "output_type": "stream",
     "text": [
      "(38726, 623)\n"
     ]
    }
   ],
   "source": [
    "print(vectorized_categories.shape)"
   ]
  },
  {
   "cell_type": "markdown",
   "id": "66b67a29",
   "metadata": {},
   "source": [
    "100개의 카테고리를 살펴보자"
   ]
  },
  {
   "cell_type": "code",
   "execution_count": 16,
   "id": "9cc4b6d9",
   "metadata": {},
   "outputs": [
    {
     "data": {
      "text/plain": [
       "'& probates | acai bowls | accessories | active life | acupuncture | adult education | adult entertainment | advertising | afghan | african | airport lounges | airport shuttles | airports | alternative medicine | amateur sports teams | american (new) | american (traditional) | amusement parks | animal shelters | antiques | appliances | appliances & repair | aquariums | arabian | arcades | argentine | armenian | art classes | art galleries | art museums | art schools | arts & crafts | arts & entertainment | asian fusion | australian | austrian | auto customization | auto detailing | auto glass services | auto insurance | auto parts & supplies | auto repair | auto upholstery | automotive | baby gear & furniture | bagels | baguettes | bakeries | bangladeshi | bankruptcy law | bar crawl | barbeque | barbers | bars | bartenders | basque | bavarian | beaches | beauty & spas | bed & breakfast | beer | beer bar | beer garden | beer gardens | beer hall | belgian | beverage store | bike rentals | bike repair/maintenance | bikes | bingo halls | bistros | boat charters | boating | body shops | books | bookstores | botanical gardens | bowling | brasseries | brazilian | brazilian jiu-jitsu | breakfast & brunch | breweries | brewpubs | bridal | british | bubble tea | buffets | building supplies | bulgarian | burgers | burmese | bus tours | business consulting | butcher | cabaret | cafes | cafeteria | cajun/creole'"
      ]
     },
     "execution_count": 16,
     "metadata": {},
     "output_type": "execute_result"
    }
   ],
   "source": [
    "' | '.join(vectorizer_categories.get_feature_names()[:100]) # only the first 100"
   ]
  },
  {
   "cell_type": "markdown",
   "id": "9bba03c4",
   "metadata": {},
   "source": [
    " sparse representations 를 이용하여 dot product의 효율을 높이도록 하겠다."
   ]
  },
  {
   "cell_type": "code",
   "execution_count": 17,
   "id": "d74c6022",
   "metadata": {
    "scrolled": true
   },
   "outputs": [
    {
     "name": "stdout",
     "output_type": "stream",
     "text": [
      "CPU times: user 1min 42s, sys: 1.93 s, total: 1min 44s\n",
      "Wall time: 1min 44s\n"
     ]
    }
   ],
   "source": [
    "%%time\n",
    "from scipy import sparse\n",
    "businessxreview = sparse.csr_matrix(pd.get_dummies(df_yelp_review['business_id']).values)"
   ]
  },
  {
   "cell_type": "markdown",
   "id": "fce38d37",
   "metadata": {},
   "source": [
    "각 행렬의 크기를 확인해보도록 한다."
   ]
  },
  {
   "cell_type": "code",
   "execution_count": 18,
   "id": "c3dcbdfe",
   "metadata": {},
   "outputs": [
    {
     "name": "stdout",
     "output_type": "stream",
     "text": [
      "restuarants x categories: \t (38726, 623)\n",
      "restuarants x reviews: \t\t (235669, 38726)\n",
      "reviews x words: \t\t (235669, 858)\n"
     ]
    }
   ],
   "source": [
    "print('restuarants x categories: \\t', vectorized_categories.shape) \n",
    "print('restuarants x reviews: \\t\\t' , businessxreview.shape) \n",
    "print('reviews x words: \\t\\t', vectorized_reviews.shape)"
   ]
  },
  {
   "cell_type": "markdown",
   "id": "6f262383",
   "metadata": {},
   "source": [
    "이제 seed 식당을 선택하고 seed 식당만큼 좋을지도 모르는 다른 식당들을 찾을 준비가 되었다. 반드시 리뷰와 평점이 좋은 식당을 선택해야 한다."
   ]
  },
  {
   "cell_type": "code",
   "execution_count": 19,
   "id": "ba723f66",
   "metadata": {},
   "outputs": [
    {
     "data": {
      "text/html": [
       "<div>\n",
       "<style scoped>\n",
       "    .dataframe tbody tr th:only-of-type {\n",
       "        vertical-align: middle;\n",
       "    }\n",
       "\n",
       "    .dataframe tbody tr th {\n",
       "        vertical-align: top;\n",
       "    }\n",
       "\n",
       "    .dataframe thead th {\n",
       "        text-align: right;\n",
       "    }\n",
       "</style>\n",
       "<table border=\"1\" class=\"dataframe\">\n",
       "  <thead>\n",
       "    <tr style=\"text-align: right;\">\n",
       "      <th></th>\n",
       "      <th>business_id</th>\n",
       "      <th>name</th>\n",
       "      <th>neighborhood</th>\n",
       "      <th>address</th>\n",
       "      <th>city</th>\n",
       "      <th>state</th>\n",
       "      <th>postal_code</th>\n",
       "      <th>latitude</th>\n",
       "      <th>longitude</th>\n",
       "      <th>stars</th>\n",
       "      <th>review_count</th>\n",
       "      <th>is_open</th>\n",
       "      <th>attributes</th>\n",
       "      <th>categories</th>\n",
       "      <th>hours</th>\n",
       "    </tr>\n",
       "  </thead>\n",
       "  <tbody>\n",
       "    <tr>\n",
       "      <th>38575</th>\n",
       "      <td>NECnXyZ8SCjQICOBhG7wTg</td>\n",
       "      <td>The Original Gyro Grill</td>\n",
       "      <td>The Annex</td>\n",
       "      <td>4 Walmer Road</td>\n",
       "      <td>Toronto</td>\n",
       "      <td>ON</td>\n",
       "      <td>M5S 1X2</td>\n",
       "      <td>43.666581</td>\n",
       "      <td>-79.405812</td>\n",
       "      <td>4.0</td>\n",
       "      <td>106</td>\n",
       "      <td>1</td>\n",
       "      <td>{'Alcohol': 'none', 'Ambience': '{'romantic': ...</td>\n",
       "      <td>Greek, Fast Food, Restaurants</td>\n",
       "      <td>{'Monday': '11:0-23:0', 'Tuesday': '11:0-23:0'...</td>\n",
       "    </tr>\n",
       "    <tr>\n",
       "      <th>75728</th>\n",
       "      <td>welW9Uwq_GZ1DOU7GEe7vQ</td>\n",
       "      <td>Bojangles</td>\n",
       "      <td></td>\n",
       "      <td>1301 S Cannon Blvd</td>\n",
       "      <td>Kannapolis</td>\n",
       "      <td>NC</td>\n",
       "      <td>28081</td>\n",
       "      <td>35.477183</td>\n",
       "      <td>-80.610966</td>\n",
       "      <td>3.0</td>\n",
       "      <td>5</td>\n",
       "      <td>1</td>\n",
       "      <td>{'Ambience': '{'romantic': False, 'intimate': ...</td>\n",
       "      <td>Chicken Wings, Restaurants</td>\n",
       "      <td>NA</td>\n",
       "    </tr>\n",
       "    <tr>\n",
       "      <th>17128</th>\n",
       "      <td>qW7lM3Jo0_Ctz3X0KYNtCQ</td>\n",
       "      <td>Fresco</td>\n",
       "      <td></td>\n",
       "      <td>2820 S Alma School Rd, 10</td>\n",
       "      <td>Chandler</td>\n",
       "      <td>AZ</td>\n",
       "      <td>85249</td>\n",
       "      <td>33.264433</td>\n",
       "      <td>-111.8601</td>\n",
       "      <td>4.5</td>\n",
       "      <td>18</td>\n",
       "      <td>0</td>\n",
       "      <td>{'Alcohol': 'none', 'BusinessAcceptsCreditCard...</td>\n",
       "      <td>Food, Korean, Restaurants, Sandwiches, Ice Cre...</td>\n",
       "      <td>NA</td>\n",
       "    </tr>\n",
       "    <tr>\n",
       "      <th>64508</th>\n",
       "      <td>WoiOpMEcbAfOqNYXqDwm3Q</td>\n",
       "      <td>La Gourmandine Bakery &amp; Pastry Shop</td>\n",
       "      <td></td>\n",
       "      <td>300 Cochran Rd</td>\n",
       "      <td>Mt Lebanon</td>\n",
       "      <td>PA</td>\n",
       "      <td>15228</td>\n",
       "      <td>40.380645</td>\n",
       "      <td>-80.052417</td>\n",
       "      <td>4.5</td>\n",
       "      <td>58</td>\n",
       "      <td>1</td>\n",
       "      <td>{'Alcohol': 'none', 'Ambience': '{'romantic': ...</td>\n",
       "      <td>Restaurants, Bakeries, Breakfast &amp; Brunch, Pat...</td>\n",
       "      <td>{'Monday': '7:30-17:0', 'Tuesday': '7:30-17:0'...</td>\n",
       "    </tr>\n",
       "    <tr>\n",
       "      <th>74372</th>\n",
       "      <td>hNSvyreISNd9XXrHyyaSjQ</td>\n",
       "      <td>Nirvana</td>\n",
       "      <td>Kensington Market</td>\n",
       "      <td>434 College St</td>\n",
       "      <td>Toronto</td>\n",
       "      <td>ON</td>\n",
       "      <td>M4W 1A7</td>\n",
       "      <td>43.656571</td>\n",
       "      <td>-79.40712</td>\n",
       "      <td>3.5</td>\n",
       "      <td>143</td>\n",
       "      <td>1</td>\n",
       "      <td>{'Alcohol': 'full_bar', 'Ambience': '{'romanti...</td>\n",
       "      <td>Breakfast &amp; Brunch, Asian Fusion, Bars, Nightl...</td>\n",
       "      <td>{'Monday': '11:0-2:0', 'Tuesday': '11:0-2:0', ...</td>\n",
       "    </tr>\n",
       "    <tr>\n",
       "      <th>130781</th>\n",
       "      <td>5s7WR7AUQDAOXMNKMCdd_Q</td>\n",
       "      <td>Freshii</td>\n",
       "      <td>Niagara</td>\n",
       "      <td>700 King Street W</td>\n",
       "      <td>Toronto</td>\n",
       "      <td>ON</td>\n",
       "      <td>M5V 2Y6</td>\n",
       "      <td>43.644373</td>\n",
       "      <td>-79.403019</td>\n",
       "      <td>2.5</td>\n",
       "      <td>8</td>\n",
       "      <td>1</td>\n",
       "      <td>{'Alcohol': 'none', 'Ambience': '{'romantic': ...</td>\n",
       "      <td>Vegetarian, Sandwiches, Restaurants, Food</td>\n",
       "      <td>{'Monday': '11:0-21:0', 'Tuesday': '11:0-21:0'...</td>\n",
       "    </tr>\n",
       "    <tr>\n",
       "      <th>160909</th>\n",
       "      <td>PwmaDYHxxTVvT_4KdBQc5Q</td>\n",
       "      <td>Grill Bistro (Le)</td>\n",
       "      <td>Ville-Marie</td>\n",
       "      <td>183 Rue Saint-Paul E</td>\n",
       "      <td>Montréal</td>\n",
       "      <td>QC</td>\n",
       "      <td>H2Y 1G8</td>\n",
       "      <td>45.507387</td>\n",
       "      <td>-73.552693</td>\n",
       "      <td>1.5</td>\n",
       "      <td>10</td>\n",
       "      <td>1</td>\n",
       "      <td>{'Alcohol': 'beer_and_wine', 'Ambience': '{'ro...</td>\n",
       "      <td>American (New), Restaurants, Canadian (New)</td>\n",
       "      <td>NA</td>\n",
       "    </tr>\n",
       "    <tr>\n",
       "      <th>15670</th>\n",
       "      <td>ykSlMTRgyWzAmhP7ywc9gg</td>\n",
       "      <td>Fin Sake Bar Oakville</td>\n",
       "      <td></td>\n",
       "      <td>221 Lakeshore Road E</td>\n",
       "      <td>Oakville</td>\n",
       "      <td>ON</td>\n",
       "      <td>L6J 1H7</td>\n",
       "      <td>43.446221</td>\n",
       "      <td>-79.667981</td>\n",
       "      <td>3.0</td>\n",
       "      <td>6</td>\n",
       "      <td>0</td>\n",
       "      <td>{'Alcohol': 'full_bar', 'Ambience': '{'romanti...</td>\n",
       "      <td>Nightlife, Bars, Restaurants, Cocktail Bars, T...</td>\n",
       "      <td>{'Tuesday': '17:30-23:0', 'Wednesday': '17:30-...</td>\n",
       "    </tr>\n",
       "    <tr>\n",
       "      <th>153413</th>\n",
       "      <td>ZBq7AD95c2kPei76KVewQQ</td>\n",
       "      <td>Texicali Taco &amp; Tequila Bar</td>\n",
       "      <td>Third Ward</td>\n",
       "      <td>900 NC Music Factory</td>\n",
       "      <td>Charlotte</td>\n",
       "      <td>NC</td>\n",
       "      <td>28206</td>\n",
       "      <td>35.23905</td>\n",
       "      <td>-80.845023</td>\n",
       "      <td>2.0</td>\n",
       "      <td>46</td>\n",
       "      <td>0</td>\n",
       "      <td>{'Alcohol': 'full_bar', 'Ambience': '{'romanti...</td>\n",
       "      <td>Nightlife, Bars, Tex-Mex, Mexican, Arts &amp; Ente...</td>\n",
       "      <td>{'Monday': '11:30-15:0', 'Tuesday': '11:30-22:...</td>\n",
       "    </tr>\n",
       "    <tr>\n",
       "      <th>56658</th>\n",
       "      <td>sghUmnrVFGxvldZQT-mtyg</td>\n",
       "      <td>Cicis</td>\n",
       "      <td></td>\n",
       "      <td>2270 N 75th Ave, Ste 101</td>\n",
       "      <td>Phoenix</td>\n",
       "      <td>AZ</td>\n",
       "      <td>85035</td>\n",
       "      <td>33.472653</td>\n",
       "      <td>-112.221504</td>\n",
       "      <td>2.5</td>\n",
       "      <td>45</td>\n",
       "      <td>1</td>\n",
       "      <td>{'Alcohol': 'none', 'Ambience': '{'romantic': ...</td>\n",
       "      <td>Sandwiches, Pizza, Italian, American (Traditio...</td>\n",
       "      <td>{'Monday': '11:0-22:0', 'Tuesday': '11:0-22:0'...</td>\n",
       "    </tr>\n",
       "  </tbody>\n",
       "</table>\n",
       "</div>"
      ],
      "text/plain": [
       "                   business_id                                 name  \\\n",
       "38575   NECnXyZ8SCjQICOBhG7wTg              The Original Gyro Grill   \n",
       "75728   welW9Uwq_GZ1DOU7GEe7vQ                            Bojangles   \n",
       "17128   qW7lM3Jo0_Ctz3X0KYNtCQ                               Fresco   \n",
       "64508   WoiOpMEcbAfOqNYXqDwm3Q  La Gourmandine Bakery & Pastry Shop   \n",
       "74372   hNSvyreISNd9XXrHyyaSjQ                              Nirvana   \n",
       "130781  5s7WR7AUQDAOXMNKMCdd_Q                              Freshii   \n",
       "160909  PwmaDYHxxTVvT_4KdBQc5Q                    Grill Bistro (Le)   \n",
       "15670   ykSlMTRgyWzAmhP7ywc9gg                Fin Sake Bar Oakville   \n",
       "153413  ZBq7AD95c2kPei76KVewQQ          Texicali Taco & Tequila Bar   \n",
       "56658   sghUmnrVFGxvldZQT-mtyg                                Cicis   \n",
       "\n",
       "             neighborhood                    address        city state  \\\n",
       "38575           The Annex              4 Walmer Road     Toronto    ON   \n",
       "75728                             1301 S Cannon Blvd  Kannapolis    NC   \n",
       "17128                      2820 S Alma School Rd, 10    Chandler    AZ   \n",
       "64508                                 300 Cochran Rd  Mt Lebanon    PA   \n",
       "74372   Kensington Market             434 College St     Toronto    ON   \n",
       "130781            Niagara          700 King Street W     Toronto    ON   \n",
       "160909        Ville-Marie       183 Rue Saint-Paul E    Montréal    QC   \n",
       "15670                           221 Lakeshore Road E    Oakville    ON   \n",
       "153413         Third Ward       900 NC Music Factory   Charlotte    NC   \n",
       "56658                       2270 N 75th Ave, Ste 101     Phoenix    AZ   \n",
       "\n",
       "       postal_code   latitude   longitude  stars  review_count  is_open  \\\n",
       "38575      M5S 1X2  43.666581  -79.405812    4.0           106        1   \n",
       "75728        28081  35.477183  -80.610966    3.0             5        1   \n",
       "17128        85249  33.264433   -111.8601    4.5            18        0   \n",
       "64508        15228  40.380645  -80.052417    4.5            58        1   \n",
       "74372      M4W 1A7  43.656571   -79.40712    3.5           143        1   \n",
       "130781     M5V 2Y6  43.644373  -79.403019    2.5             8        1   \n",
       "160909     H2Y 1G8  45.507387  -73.552693    1.5            10        1   \n",
       "15670      L6J 1H7  43.446221  -79.667981    3.0             6        0   \n",
       "153413       28206   35.23905  -80.845023    2.0            46        0   \n",
       "56658        85035  33.472653 -112.221504    2.5            45        1   \n",
       "\n",
       "                                               attributes  \\\n",
       "38575   {'Alcohol': 'none', 'Ambience': '{'romantic': ...   \n",
       "75728   {'Ambience': '{'romantic': False, 'intimate': ...   \n",
       "17128   {'Alcohol': 'none', 'BusinessAcceptsCreditCard...   \n",
       "64508   {'Alcohol': 'none', 'Ambience': '{'romantic': ...   \n",
       "74372   {'Alcohol': 'full_bar', 'Ambience': '{'romanti...   \n",
       "130781  {'Alcohol': 'none', 'Ambience': '{'romantic': ...   \n",
       "160909  {'Alcohol': 'beer_and_wine', 'Ambience': '{'ro...   \n",
       "15670   {'Alcohol': 'full_bar', 'Ambience': '{'romanti...   \n",
       "153413  {'Alcohol': 'full_bar', 'Ambience': '{'romanti...   \n",
       "56658   {'Alcohol': 'none', 'Ambience': '{'romantic': ...   \n",
       "\n",
       "                                               categories  \\\n",
       "38575                       Greek, Fast Food, Restaurants   \n",
       "75728                          Chicken Wings, Restaurants   \n",
       "17128   Food, Korean, Restaurants, Sandwiches, Ice Cre...   \n",
       "64508   Restaurants, Bakeries, Breakfast & Brunch, Pat...   \n",
       "74372   Breakfast & Brunch, Asian Fusion, Bars, Nightl...   \n",
       "130781          Vegetarian, Sandwiches, Restaurants, Food   \n",
       "160909        American (New), Restaurants, Canadian (New)   \n",
       "15670   Nightlife, Bars, Restaurants, Cocktail Bars, T...   \n",
       "153413  Nightlife, Bars, Tex-Mex, Mexican, Arts & Ente...   \n",
       "56658   Sandwiches, Pizza, Italian, American (Traditio...   \n",
       "\n",
       "                                                    hours  \n",
       "38575   {'Monday': '11:0-23:0', 'Tuesday': '11:0-23:0'...  \n",
       "75728                                                  NA  \n",
       "17128                                                  NA  \n",
       "64508   {'Monday': '7:30-17:0', 'Tuesday': '7:30-17:0'...  \n",
       "74372   {'Monday': '11:0-2:0', 'Tuesday': '11:0-2:0', ...  \n",
       "130781  {'Monday': '11:0-21:0', 'Tuesday': '11:0-21:0'...  \n",
       "160909                                                 NA  \n",
       "15670   {'Tuesday': '17:30-23:0', 'Wednesday': '17:30-...  \n",
       "153413  {'Monday': '11:30-15:0', 'Tuesday': '11:30-22:...  \n",
       "56658   {'Monday': '11:0-22:0', 'Tuesday': '11:0-22:0'...  "
      ]
     },
     "execution_count": 19,
     "metadata": {},
     "output_type": "execute_result"
    }
   ],
   "source": [
    "# to choose a restaurant, just copy the business id and paste it in the next cell\n",
    "# you can always rerun the cell to choose another restuarant. \n",
    "df_yelp_business.sample(10)"
   ]
  },
  {
   "cell_type": "code",
   "execution_count": 20,
   "id": "e44fd307",
   "metadata": {},
   "outputs": [],
   "source": [
    "business_choose = 'aUrOyWFKxKeVXiFzwbTXSA' # vegan, vegetarian, cafes"
   ]
  },
  {
   "cell_type": "markdown",
   "id": "ffdacdec",
   "metadata": {},
   "source": [
    "먼저 몇몇 리뷰들을 꺼내서 보도록 한다."
   ]
  },
  {
   "cell_type": "code",
   "execution_count": 21,
   "id": "eaeee648",
   "metadata": {},
   "outputs": [],
   "source": [
    "new_reviews = df_yelp_review.loc[df_yelp_review['business_id'] == business_choose, 'text']"
   ]
  },
  {
   "cell_type": "code",
   "execution_count": 22,
   "id": "68310b14",
   "metadata": {},
   "outputs": [
    {
     "name": "stdout",
     "output_type": "stream",
     "text": [
      "vegan restaurant amazing ! warm cozy inside ! everyone nice friendly amazing tea not tea bags either\n",
      "come madison fairly frequently work make point come green owl often possible delicious talk back hom\n",
      "really good food service even omnivores ! \n",
      "really great restaurant ate dinner next day lunch ordered vegan jambalaya first night healthy mind b\n",
      "sad green owl live milwaukee fantabulous ! great food warm atmosphere nice people what is like + + w\n",
      "like green owl think little room improvement extensive diverse menu really like atmosphere nice love\n",
      "fabulous ! incredibly delicious ! great vegan menu abundant number choices tlt great order again fun\n",
      "never thought i would find good vegan vegetarian joint sis - in - law took here recently turned vega\n",
      "year ago information might date remember good food was ! + + their kale chips crab cakes chipotle sa\n",
      "went vegetarians every thing sounded unappetizing fried seitan sounds unappealing want pay dollars f\n",
      "favorite thing get crabby cake poboy consistently amazing one vegetarians misses fish sandwiches bes\n",
      "i have mixed results thus mixed feelings green owl one thing always true : dessert delicious + + the\n",
      "enjoyed great brunch husband tofu scramble wisconsin omelet beer carmelized onions ! yum ! we also s\n",
      "yelp discovery us looking nice healthy alternative franchise fare found here huge menu kinds delicio\n"
     ]
    }
   ],
   "source": [
    "print('\\n'.join([r[:100] for r in new_reviews.tolist()])) # restaurant reviews"
   ]
  },
  {
   "cell_type": "markdown",
   "id": "d4f1891f",
   "metadata": {},
   "source": [
    "카테고리도 꺼내서 살펴본다"
   ]
  },
  {
   "cell_type": "code",
   "execution_count": 23,
   "id": "575010ef",
   "metadata": {},
   "outputs": [],
   "source": [
    "new_categories = df_yelp_business.loc[df_yelp_business['business_id'] == business_choose, 'categories']"
   ]
  },
  {
   "cell_type": "code",
   "execution_count": 24,
   "id": "3ed5cd5d",
   "metadata": {},
   "outputs": [
    {
     "data": {
      "text/plain": [
       "['Vegetarian, Cafes, Vegan, Restaurants']"
      ]
     },
     "execution_count": 24,
     "metadata": {},
     "output_type": "execute_result"
    }
   ],
   "source": [
    "new_categories.tolist() #  restaurant categories"
   ]
  },
  {
   "cell_type": "markdown",
   "id": "cbc77e5d",
   "metadata": {},
   "source": [
    "여기서, 두 세트의 거리를 계산한다. 모든 리뷰에 대한 평균 벡터화된 리뷰의 상관 거리를 계산하고, 이 카테고리와 다른 모든 카테고리 사이의 상관 거리를 계산한다. 결과를 보면 범주 트릭이 더 명확해진다."
   ]
  },
  {
   "cell_type": "code",
   "execution_count": 25,
   "id": "4bf7eebb",
   "metadata": {},
   "outputs": [],
   "source": [
    "from scipy.spatial.distance import cdist\n",
    "# find most similar reviews\n",
    "dists1 = cdist(vectorizer_reviews.transform(new_reviews).todense().mean(axis=0), \n",
    "              vectorized_reviews.T.dot(businessxreview).T.todense(), \n",
    "               metric='correlation')\n",
    "# find most similar categories\n",
    "dists2 = cdist(vectorizer_categories.transform(new_categories).todense().mean(axis=0), \n",
    "              vectorized_categories.todense(), \n",
    "               metric='correlation')"
   ]
  },
  {
   "cell_type": "markdown",
   "id": "5ff6cf3f",
   "metadata": {},
   "source": [
    "이제 두 거리 집합을 결합하고 그 평균을 구합니다."
   ]
  },
  {
   "cell_type": "code",
   "execution_count": 26,
   "id": "f780097d",
   "metadata": {},
   "outputs": [],
   "source": [
    "# combine the two vectors in one matrix\n",
    "dists_together = np.vstack([dists1.ravel(), dists2.ravel()]).T"
   ]
  },
  {
   "cell_type": "code",
   "execution_count": 27,
   "id": "e9e5cb9c",
   "metadata": {},
   "outputs": [
    {
     "data": {
      "text/plain": [
       "array([[0.68112292, 0.80215126],\n",
       "       [0.24976913, 0.84130716],\n",
       "       [0.64411173, 0.5567631 ],\n",
       "       ...,\n",
       "       [0.84762579, 0.71528561],\n",
       "       [0.78104818, 0.78199686],\n",
       "       [0.88535272, 0.75484653]])"
      ]
     },
     "execution_count": 27,
     "metadata": {},
     "output_type": "execute_result"
    }
   ],
   "source": [
    "dists_together"
   ]
  },
  {
   "cell_type": "code",
   "execution_count": 28,
   "id": "0bb8d139",
   "metadata": {},
   "outputs": [],
   "source": [
    "# this is a key cell: how are we going to prioritize ?\n",
    "dists = dists_together.mean(axis=1)"
   ]
  },
  {
   "cell_type": "code",
   "execution_count": 29,
   "id": "80a4260e",
   "metadata": {},
   "outputs": [
    {
     "data": {
      "text/plain": [
       "array([0.74163709, 0.54553814, 0.60043741, ..., 0.7814557 , 0.78152252,\n",
       "       0.82009963])"
      ]
     },
     "execution_count": 29,
     "metadata": {},
     "output_type": "execute_result"
    }
   ],
   "source": [
    "dists"
   ]
  },
  {
   "cell_type": "markdown",
   "id": "b1ba80dd",
   "metadata": {},
   "source": [
    "Seed 식당에서 가장 가까운 10개 식당을 골라보자."
   ]
  },
  {
   "cell_type": "code",
   "execution_count": 30,
   "id": "d222b5fa",
   "metadata": {},
   "outputs": [],
   "source": [
    "# select the closest 10\n",
    "closest = dists.argsort().ravel()[:10]"
   ]
  },
  {
   "cell_type": "markdown",
   "id": "23f791f4",
   "metadata": {},
   "source": [
    "Seed 식당을 하나 정해보자."
   ]
  },
  {
   "cell_type": "code",
   "execution_count": 31,
   "id": "2b290d06",
   "metadata": {},
   "outputs": [
    {
     "data": {
      "text/html": [
       "<div>\n",
       "<style scoped>\n",
       "    .dataframe tbody tr th:only-of-type {\n",
       "        vertical-align: middle;\n",
       "    }\n",
       "\n",
       "    .dataframe tbody tr th {\n",
       "        vertical-align: top;\n",
       "    }\n",
       "\n",
       "    .dataframe thead th {\n",
       "        text-align: right;\n",
       "    }\n",
       "</style>\n",
       "<table border=\"1\" class=\"dataframe\">\n",
       "  <thead>\n",
       "    <tr style=\"text-align: right;\">\n",
       "      <th></th>\n",
       "      <th>business_id</th>\n",
       "      <th>categories</th>\n",
       "      <th>name</th>\n",
       "      <th>stars</th>\n",
       "    </tr>\n",
       "  </thead>\n",
       "  <tbody>\n",
       "    <tr>\n",
       "      <th>89849</th>\n",
       "      <td>aUrOyWFKxKeVXiFzwbTXSA</td>\n",
       "      <td>Vegetarian, Cafes, Vegan, Restaurants</td>\n",
       "      <td>The Green Owl Cafe</td>\n",
       "      <td>4.0</td>\n",
       "    </tr>\n",
       "  </tbody>\n",
       "</table>\n",
       "</div>"
      ],
      "text/plain": [
       "                  business_id                             categories  \\\n",
       "89849  aUrOyWFKxKeVXiFzwbTXSA  Vegetarian, Cafes, Vegan, Restaurants   \n",
       "\n",
       "                     name  stars  \n",
       "89849  The Green Owl Cafe    4.0  "
      ]
     },
     "execution_count": 31,
     "metadata": {},
     "output_type": "execute_result"
    }
   ],
   "source": [
    "df_yelp_business.loc[df_yelp_business['business_id']== business_choose, ['business_id', 'categories', 'name', 'stars']]"
   ]
  },
  {
   "cell_type": "markdown",
   "id": "04f6a949",
   "metadata": {},
   "source": [
    "가장 매칭률이 높은 상위의 결과들을 확인해보자!"
   ]
  },
  {
   "cell_type": "code",
   "execution_count": 32,
   "id": "43f721f8",
   "metadata": {},
   "outputs": [
    {
     "data": {
      "text/html": [
       "<div>\n",
       "<style scoped>\n",
       "    .dataframe tbody tr th:only-of-type {\n",
       "        vertical-align: middle;\n",
       "    }\n",
       "\n",
       "    .dataframe tbody tr th {\n",
       "        vertical-align: top;\n",
       "    }\n",
       "\n",
       "    .dataframe thead th {\n",
       "        text-align: right;\n",
       "    }\n",
       "</style>\n",
       "<table border=\"1\" class=\"dataframe\">\n",
       "  <thead>\n",
       "    <tr style=\"text-align: right;\">\n",
       "      <th></th>\n",
       "      <th>business_id</th>\n",
       "      <th>categories</th>\n",
       "      <th>name</th>\n",
       "      <th>stars</th>\n",
       "    </tr>\n",
       "  </thead>\n",
       "  <tbody>\n",
       "    <tr>\n",
       "      <th>36563</th>\n",
       "      <td>yGCrsq0AYI8WN7goMVLHJA</td>\n",
       "      <td>Mexican, Vegan, Vegetarian, Restaurants</td>\n",
       "      <td>Yayo Taco</td>\n",
       "      <td>3.5</td>\n",
       "    </tr>\n",
       "    <tr>\n",
       "      <th>47957</th>\n",
       "      <td>AaWlhVc96VvdwNGMiW7HeA</td>\n",
       "      <td>Vegan, Vegetarian, Restaurants</td>\n",
       "      <td>Ashley's</td>\n",
       "      <td>4.0</td>\n",
       "    </tr>\n",
       "    <tr>\n",
       "      <th>58566</th>\n",
       "      <td>hM9g6_VR8sdzfvcWNsnUaQ</td>\n",
       "      <td>Vegan, Coffee &amp; Tea, Cafes, Food, Restaurants,...</td>\n",
       "      <td>Greenbridge Teahouse and Cafe</td>\n",
       "      <td>4.5</td>\n",
       "    </tr>\n",
       "    <tr>\n",
       "      <th>60179</th>\n",
       "      <td>MOgPF7lg25Pn0sgzOwNqmA</td>\n",
       "      <td>Restaurants, Gluten-Free, Vegan, Vegetarian</td>\n",
       "      <td>Gratitude Cafe</td>\n",
       "      <td>3.0</td>\n",
       "    </tr>\n",
       "    <tr>\n",
       "      <th>63515</th>\n",
       "      <td>HM5_OwVGW4YEHgyOf56IAQ</td>\n",
       "      <td>Vegetarian, Restaurants, Vegan</td>\n",
       "      <td>Green Earth Vegetarian Cuisine</td>\n",
       "      <td>4.0</td>\n",
       "    </tr>\n",
       "    <tr>\n",
       "      <th>97560</th>\n",
       "      <td>DB1kg0GJZXNrFYZqsxeavg</td>\n",
       "      <td>Vegan, Vegetarian, Restaurants</td>\n",
       "      <td>Zizis Vegan Take-Out</td>\n",
       "      <td>4.0</td>\n",
       "    </tr>\n",
       "    <tr>\n",
       "      <th>106858</th>\n",
       "      <td>jPqrHW9lXfdtQDmm2wzyrw</td>\n",
       "      <td>Vegetarian, Restaurants, Vegan, Ethiopian</td>\n",
       "      <td>Abay Ethiopian Cuisine</td>\n",
       "      <td>4.0</td>\n",
       "    </tr>\n",
       "    <tr>\n",
       "      <th>111406</th>\n",
       "      <td>Tv8uaK1ymZES4vjSpr1unQ</td>\n",
       "      <td>Vegetarian, Vegan, Restaurants, Indian</td>\n",
       "      <td>Govinda's</td>\n",
       "      <td>3.5</td>\n",
       "    </tr>\n",
       "    <tr>\n",
       "      <th>122588</th>\n",
       "      <td>XGteHUmQZNLDKqnZkVBqZQ</td>\n",
       "      <td>Restaurants, Vegan, Vegetarian</td>\n",
       "      <td>Veggie Paradise</td>\n",
       "      <td>4.5</td>\n",
       "    </tr>\n",
       "    <tr>\n",
       "      <th>134452</th>\n",
       "      <td>ho5ClDsYijmOJy9OSUx8UA</td>\n",
       "      <td>Cafes, Vegan, Vegetarian, Restaurants</td>\n",
       "      <td>D-Beatstro</td>\n",
       "      <td>4.5</td>\n",
       "    </tr>\n",
       "  </tbody>\n",
       "</table>\n",
       "</div>"
      ],
      "text/plain": [
       "                   business_id  \\\n",
       "36563   yGCrsq0AYI8WN7goMVLHJA   \n",
       "47957   AaWlhVc96VvdwNGMiW7HeA   \n",
       "58566   hM9g6_VR8sdzfvcWNsnUaQ   \n",
       "60179   MOgPF7lg25Pn0sgzOwNqmA   \n",
       "63515   HM5_OwVGW4YEHgyOf56IAQ   \n",
       "97560   DB1kg0GJZXNrFYZqsxeavg   \n",
       "106858  jPqrHW9lXfdtQDmm2wzyrw   \n",
       "111406  Tv8uaK1ymZES4vjSpr1unQ   \n",
       "122588  XGteHUmQZNLDKqnZkVBqZQ   \n",
       "134452  ho5ClDsYijmOJy9OSUx8UA   \n",
       "\n",
       "                                               categories  \\\n",
       "36563             Mexican, Vegan, Vegetarian, Restaurants   \n",
       "47957                      Vegan, Vegetarian, Restaurants   \n",
       "58566   Vegan, Coffee & Tea, Cafes, Food, Restaurants,...   \n",
       "60179         Restaurants, Gluten-Free, Vegan, Vegetarian   \n",
       "63515                      Vegetarian, Restaurants, Vegan   \n",
       "97560                      Vegan, Vegetarian, Restaurants   \n",
       "106858          Vegetarian, Restaurants, Vegan, Ethiopian   \n",
       "111406             Vegetarian, Vegan, Restaurants, Indian   \n",
       "122588                     Restaurants, Vegan, Vegetarian   \n",
       "134452              Cafes, Vegan, Vegetarian, Restaurants   \n",
       "\n",
       "                                  name  stars  \n",
       "36563                        Yayo Taco    3.5  \n",
       "47957                         Ashley's    4.0  \n",
       "58566    Greenbridge Teahouse and Cafe    4.5  \n",
       "60179                   Gratitude Cafe    3.0  \n",
       "63515   Green Earth Vegetarian Cuisine    4.0  \n",
       "97560             Zizis Vegan Take-Out    4.0  \n",
       "106858          Abay Ethiopian Cuisine    4.0  \n",
       "111406                       Govinda's    3.5  \n",
       "122588                 Veggie Paradise    4.5  \n",
       "134452                      D-Beatstro    4.5  "
      ]
     },
     "execution_count": 32,
     "metadata": {},
     "output_type": "execute_result"
    }
   ],
   "source": [
    "df_yelp_business.loc[df_yelp_business['business_id'].isin(df_yelp_business['business_id'].iloc[closest]), ['business_id', 'categories', 'name', 'stars']]"
   ]
  },
  {
   "cell_type": "markdown",
   "id": "caa46933",
   "metadata": {},
   "source": [
    "이들 중 많은 수가 같은 범주(채식주의자 및 비건)에서 온 것처럼 보이지만, 이러한 범주(에티오피아, 아프리카, 아시아 퓨전 등)에는 상당한 차이가 있다. 주의해야 할 점은, 이 결과들 모두가 높은 평가를 받고 있는 것처럼 보인다는 것이다."
   ]
  }
 ],
 "metadata": {
  "kernelspec": {
   "display_name": "Python 3 (ipykernel)",
   "language": "python",
   "name": "python3"
  },
  "language_info": {
   "codemirror_mode": {
    "name": "ipython",
    "version": 3
   },
   "file_extension": ".py",
   "mimetype": "text/x-python",
   "name": "python",
   "nbconvert_exporter": "python",
   "pygments_lexer": "ipython3",
   "version": "3.9.7"
  },
  "toc": {
   "base_numbering": 1,
   "nav_menu": {},
   "number_sections": true,
   "sideBar": true,
   "skip_h1_title": false,
   "title_cell": "Table of Contents",
   "title_sidebar": "Contents",
   "toc_cell": false,
   "toc_position": {},
   "toc_section_display": true,
   "toc_window_display": false
  }
 },
 "nbformat": 4,
 "nbformat_minor": 5
}

{
 "cells": [
  {
   "cell_type": "markdown",
   "id": "6a40e7a9",
   "metadata": {},
   "source": [
    "[노트북 출처](https://dacon.io/competitions/official/235875/codeshare/4520?page=1&dtype=vote)"
   ]
  },
  {
   "cell_type": "markdown",
   "id": "67e4107b",
   "metadata": {},
   "source": [
    "## Hugging Face를 활용한 모델링"
   ]
  },
  {
   "cell_type": "markdown",
   "id": "51e22bb6",
   "metadata": {},
   "source": [
    "### EDA"
   ]
  },
  {
   "cell_type": "markdown",
   "id": "c1bde864",
   "metadata": {},
   "source": [
    "패키지 설치"
   ]
  },
  {
   "cell_type": "code",
   "execution_count": null,
   "id": "097e39e7",
   "metadata": {},
   "outputs": [],
   "source": [
    "import o"
   ]
  }
 ],
 "metadata": {
  "kernelspec": {
   "display_name": "Python 3 (ipykernel)",
   "language": "python",
   "name": "python3"
  },
  "language_info": {
   "codemirror_mode": {
    "name": "ipython",
    "version": 3
   },
   "file_extension": ".py",
   "mimetype": "text/x-python",
   "name": "python",
   "nbconvert_exporter": "python",
   "pygments_lexer": "ipython3",
   "version": "3.9.7"
  },
  "toc": {
   "base_numbering": 1,
   "nav_menu": {},
   "number_sections": true,
   "sideBar": true,
   "skip_h1_title": false,
   "title_cell": "Table of Contents",
   "title_sidebar": "Contents",
   "toc_cell": false,
   "toc_position": {},
   "toc_section_display": true,
   "toc_window_display": false
  }
 },
 "nbformat": 4,
 "nbformat_minor": 5
}
